{
  "nbformat": 4,
  "nbformat_minor": 0,
  "metadata": {
    "colab": {
      "name": "Untitled0.ipynb",
      "provenance": [],
      "collapsed_sections": [],
      "authorship_tag": "ABX9TyMF1spgWF3rmCqybW3gAmlO",
      "include_colab_link": true
    },
    "kernelspec": {
      "name": "python3",
      "display_name": "Python 3"
    },
    "language_info": {
      "name": "python"
    }
  },
  "cells": [
    {
      "cell_type": "markdown",
      "metadata": {
        "id": "view-in-github",
        "colab_type": "text"
      },
      "source": [
        "<a href=\"https://colab.research.google.com/github/ShreshtaP/-Shreshta_INFO5731_-Fall2021/blob/main/In_Class_Excercise.ipynb\" target=\"_parent\"><img src=\"https://colab.research.google.com/assets/colab-badge.svg\" alt=\"Open In Colab\"/></a>"
      ]
    },
    {
      "cell_type": "markdown",
      "metadata": {
        "id": "uDf1857NwrHa"
      },
      "source": [
        ""
      ]
    },
    {
      "cell_type": "code",
      "metadata": {
        "colab": {
          "base_uri": "https://localhost:8080/"
        },
        "id": "RKdZvm-2w0pj",
        "outputId": "9c76f89a-604b-4c62-fa8b-46cb11f8f826"
      },
      "source": [
        "a = input(\"Enter a string: \") \n",
        "print(\"Length of the string is:\", len(a)) \n"
      ],
      "execution_count": 1,
      "outputs": [
        {
          "output_type": "stream",
          "name": "stdout",
          "text": [
            "Enter a string: shreshta\n",
            "Length of the string is: 8\n"
          ]
        }
      ]
    },
    {
      "cell_type": "code",
      "metadata": {
        "colab": {
          "base_uri": "https://localhost:8080/"
        },
        "id": "9tYqF-B5yEha",
        "outputId": "195bae0e-c109-41a7-d2a4-fd6a157bd8e6"
      },
      "source": [
        "def count_char(str):\n",
        "    dict = {}\n",
        "    for a in str:\n",
        "        keys = dict.keys()\n",
        "        if a in keys:\n",
        "            dict[a] += 1\n",
        "        else:\n",
        "            dict[a] = 1\n",
        "    return dict\n",
        "print(count_char('amazon.com'))"
      ],
      "execution_count": 7,
      "outputs": [
        {
          "output_type": "stream",
          "name": "stdout",
          "text": [
            "{'a': 2, 'm': 2, 'z': 1, 'o': 2, 'n': 1, '.': 1, 'c': 1}\n"
          ]
        }
      ]
    },
    {
      "cell_type": "code",
      "metadata": {
        "colab": {
          "base_uri": "https://localhost:8080/"
        },
        "id": "Mh3KjrxTyMLy",
        "outputId": "ea8fd18b-7297-4ac5-aafd-11e0fc6534c0"
      },
      "source": [
        "list = [1, 2, 3, 4, 5] \n",
        "total = sum(list) \n",
        "print(\"Sum of all items in list:\",total) "
      ],
      "execution_count": 8,
      "outputs": [
        {
          "output_type": "stream",
          "name": "stdout",
          "text": [
            "Sum of all items in list: 15\n"
          ]
        }
      ]
    },
    {
      "cell_type": "code",
      "metadata": {
        "colab": {
          "base_uri": "https://localhost:8080/"
        },
        "id": "oxKroPnIyW6-",
        "outputId": "0e033292-559b-4c92-8bd5-1fbd20957287"
      },
      "source": [
        "def char_change(str):\n",
        "    char = str[0]\n",
        "    str = str.replace (char, '$')\n",
        "    str = char + str [1 : ]\n",
        "    return str\n",
        "print(char_change('windows'))"
      ],
      "execution_count": 9,
      "outputs": [
        {
          "output_type": "stream",
          "name": "stdout",
          "text": [
            "windo$s\n"
          ]
        }
      ]
    },
    {
      "cell_type": "code",
      "metadata": {
        "colab": {
          "base_uri": "https://localhost:8080/"
        },
        "id": "M5HvBDaLyb_b",
        "outputId": "9a9d91e8-f3a8-4ed2-d6ca-199ded0c98d3"
      },
      "source": [
        "a = int(input(\"Enter a value: \"))\n",
        "b = int(input(\"Enter b value: \"))\n",
        "d = (1 + a/b)**3\n",
        "S = 3.14 * d\n",
        "print(\"S value is :\", S)"
      ],
      "execution_count": 10,
      "outputs": [
        {
          "output_type": "stream",
          "name": "stdout",
          "text": [
            "Enter a value: 1\n",
            "Enter b value: 2\n",
            "S value is : 10.5975\n"
          ]
        }
      ]
    },
    {
      "cell_type": "code",
      "metadata": {
        "colab": {
          "base_uri": "https://localhost:8080/"
        },
        "id": "JfUOxTB1yi38",
        "outputId": "6eae1c08-e561-44dd-dd60-5ed9fb194043"
      },
      "source": [
        "dict1={1:100,2:200}\n",
        "dict2={3:300,4:400}\n",
        "dict3={5:500,6:600} \n",
        "dict4 = {**dict1,**dict2,**dict3}  \n",
        "print(dict4) "
      ],
      "execution_count": 11,
      "outputs": [
        {
          "output_type": "stream",
          "name": "stdout",
          "text": [
            "{1: 100, 2: 200, 3: 300, 4: 400, 5: 500, 6: 600}\n"
          ]
        }
      ]
    },
    {
      "cell_type": "code",
      "metadata": {
        "colab": {
          "base_uri": "https://localhost:8080/"
        },
        "id": "h3GADQ2wyoTG",
        "outputId": "96d361e7-0649-422d-ceda-41488e0abf28"
      },
      "source": [
        "tuple = (1,2,3,4)\n",
        "element = 2\n",
        "if element in tuple:\n",
        "    print(\"exists in tuple\")\n",
        "else:\n",
        "    print(\"does not exist in tuple\")"
      ],
      "execution_count": 12,
      "outputs": [
        {
          "output_type": "stream",
          "name": "stdout",
          "text": [
            "exists in tuple\n"
          ]
        }
      ]
    },
    {
      "cell_type": "code",
      "metadata": {
        "colab": {
          "base_uri": "https://localhost:8080/"
        },
        "id": "yXlW3oVyyuIy",
        "outputId": "9c4d1468-2ae2-413a-9a55-268d97d94c7b"
      },
      "source": [
        "s = {6, 2, 12, 28,25}\n",
        "print(min(s))\n",
        "print(max(s)) \n"
      ],
      "execution_count": 13,
      "outputs": [
        {
          "output_type": "stream",
          "name": "stdout",
          "text": [
            "2\n",
            "28\n"
          ]
        }
      ]
    },
    {
      "cell_type": "code",
      "metadata": {
        "colab": {
          "base_uri": "https://localhost:8080/"
        },
        "id": "mdYaf_umyyxO",
        "outputId": "8f6289ea-3f78-4093-ff38-dacf25e0434a"
      },
      "source": [
        "import random\n",
        "student_list = ['vmb0067','pc0353','snd0097','yye0005','sg0940','bk0301','rak0120','rrk0058','spk0057','vl0135','nm0547','pn0159', 'msp0174','dd0420','ds0761',\n",
        "              'rs0850','ss1995','at0739','at0768','mv0299','tv0119','dy0091','py0080','ttp0037','hc0439','ri0094','pk0339', 'hn0145','mn0426']\n",
        "group=1\n",
        "members_in_group=6\n",
        "for student in student_list[:]:              \n",
        "    if members_in_group==6:\n",
        "        print(\"Group {} for term project: \".format(group))\n",
        "        members_in_group=0\n",
        "        group += 1\n",
        "    person=random.choice(student_list)\n",
        "    print(person)\n",
        "    members_in_group += 1\n",
        "    student_list.remove(str(person))"
      ],
      "execution_count": 14,
      "outputs": [
        {
          "output_type": "stream",
          "name": "stdout",
          "text": [
            "Group 1 for term project: \n",
            "vmb0067\n",
            "rak0120\n",
            "ttp0037\n",
            "ri0094\n",
            "hn0145\n",
            "py0080\n",
            "Group 2 for term project: \n",
            "yye0005\n",
            "dy0091\n",
            "mn0426\n",
            "hc0439\n",
            "vl0135\n",
            "rs0850\n",
            "Group 3 for term project: \n",
            "tv0119\n",
            "pk0339\n",
            "nm0547\n",
            "at0739\n",
            "ds0761\n",
            "msp0174\n",
            "Group 4 for term project: \n",
            "dd0420\n",
            "mv0299\n",
            "pn0159\n",
            "rrk0058\n",
            "spk0057\n",
            "ss1995\n",
            "Group 5 for term project: \n",
            "pc0353\n",
            "snd0097\n",
            "bk0301\n",
            "sg0940\n",
            "at0768\n"
          ]
        }
      ]
    },
    {
      "cell_type": "code",
      "metadata": {
        "colab": {
          "base_uri": "https://localhost:8080/"
        },
        "id": "dQKeVLEty43u",
        "outputId": "d61e8be4-2f31-4de8-cfea-ea38b50935ed"
      },
      "source": [
        "def duplicate_element(num):\n",
        "    num_set = set()\n",
        "    no_duplicate = -1\n",
        "    for i in range(len(num)):\n",
        "      if num[i] in num_set:\n",
        "            return num[i]\n",
        "      else:\n",
        "            num_set.add(num[i])\n",
        "    return no_duplicate\n",
        "print(duplicate_element([1, 2, 2, 3, 4, 5]))\n",
        "print(duplicate_element([1, 2, 3, 3, 4]))\n",
        "print(duplicate_element([1, 2, 3, 4, 5]))\n",
        "print(duplicate_element([1, 2, 3, 3, 2, 2, 4, 4]))"
      ],
      "execution_count": 15,
      "outputs": [
        {
          "output_type": "stream",
          "name": "stdout",
          "text": [
            "2\n",
            "3\n",
            "-1\n",
            "3\n"
          ]
        }
      ]
    },
    {
      "cell_type": "code",
      "metadata": {
        "colab": {
          "base_uri": "https://localhost:8080/"
        },
        "id": "-pAWyT12y9yd",
        "outputId": "59a5b33c-6c02-4904-815b-8002651212ee"
      },
      "source": [
        "from datetime import date, timedelta\n",
        "def sundays(year):\n",
        "       date1 = date(year, 1, 1)       \n",
        "       date1 += timedelta(days = 6 - date1.weekday())  \n",
        "       while date1.year == year:\n",
        "          yield date1\n",
        "          date1 += timedelta(days = 7)\n",
        "for sun in sundays(2021):\n",
        "   print(sun)"
      ],
      "execution_count": 16,
      "outputs": [
        {
          "output_type": "stream",
          "name": "stdout",
          "text": [
            "2021-01-03\n",
            "2021-01-10\n",
            "2021-01-17\n",
            "2021-01-24\n",
            "2021-01-31\n",
            "2021-02-07\n",
            "2021-02-14\n",
            "2021-02-21\n",
            "2021-02-28\n",
            "2021-03-07\n",
            "2021-03-14\n",
            "2021-03-21\n",
            "2021-03-28\n",
            "2021-04-04\n",
            "2021-04-11\n",
            "2021-04-18\n",
            "2021-04-25\n",
            "2021-05-02\n",
            "2021-05-09\n",
            "2021-05-16\n",
            "2021-05-23\n",
            "2021-05-30\n",
            "2021-06-06\n",
            "2021-06-13\n",
            "2021-06-20\n",
            "2021-06-27\n",
            "2021-07-04\n",
            "2021-07-11\n",
            "2021-07-18\n",
            "2021-07-25\n",
            "2021-08-01\n",
            "2021-08-08\n",
            "2021-08-15\n",
            "2021-08-22\n",
            "2021-08-29\n",
            "2021-09-05\n",
            "2021-09-12\n",
            "2021-09-19\n",
            "2021-09-26\n",
            "2021-10-03\n",
            "2021-10-10\n",
            "2021-10-17\n",
            "2021-10-24\n",
            "2021-10-31\n",
            "2021-11-07\n",
            "2021-11-14\n",
            "2021-11-21\n",
            "2021-11-28\n",
            "2021-12-05\n",
            "2021-12-12\n",
            "2021-12-19\n",
            "2021-12-26\n"
          ]
        }
      ]
    }
  ]
}